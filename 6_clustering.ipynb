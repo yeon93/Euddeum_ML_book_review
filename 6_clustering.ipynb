{
 "cells": [
  {
   "cell_type": "markdown",
   "metadata": {},
   "source": [
    "### K-Means 알고리즘\n",
    "+ 원리가 단순하고 직관적이며, 성능이 좋은 군집화 알고리즘이다.\n",
    "+ 데이터 분포에 대한 사전지식이 없을 경우에도 사용가능하지만,  \n",
    "사전에 군집의 개수(k)를 지정해야하는 단점이 있다."
   ]
  },
  {
   "cell_type": "code",
   "execution_count": 1,
   "metadata": {},
   "outputs": [
    {
     "data": {
      "image/png": "[encoded data removed]",
      "text/plain": [
       "<Figure size 432x288 with 1 Axes>"
      ]
     },
     "metadata": {
      "needs_background": "light"
     },
     "output_type": "display_data"
    }
   ],
   "source": [
    "import numpy as np\n",
    "import matplotlib.pyplot as plt\n",
    "\n",
    "dach_length = [77, 78, 85, 83, 73, 77, 73, 80]\n",
    "dach_height = [25, 28, 29, 30, 21, 22, 17, 35]\n",
    "samo_length = [75, 77, 86, 86, 79, 83, 83, 88]\n",
    "samo_height = [56, 57, 50, 53, 60, 53, 49, 61]\n",
    "\n",
    "length = np.array(dach_length + samo_length)   #(16, )\n",
    "height = np.array(dach_height + samo_height)   #(16, )\n",
    "\n",
    "plt.title('Dog data without label')\n",
    "plt.scatter(length, height);   #라벨에 대한 사전정보 없음"
   ]
  },
  {
   "cell_type": "code",
   "execution_count": 2,
   "metadata": {},
   "outputs": [
    {
     "data": {
      "image/png": "[encoded data removed]",
      "text/plain": [
       "<Figure size 432x288 with 1 Axes>"
      ]
     },
     "metadata": {
      "needs_background": "light"
     },
     "output_type": "display_data"
    }
   ],
   "source": [
    "from sklearn.cluster import KMeans\n",
    "\n",
    "data = np.column_stack((length, height))       #(16, 2)\n",
    "\n",
    "def kmeans_pred_plot(X, k):\n",
    "    model = KMeans(n_clusters=k)\n",
    "    model.fit(X)\n",
    "    y_pred = model.predict(X)   #0~k-1 사이 라벨 예측\n",
    "    colors = np.array(['r', 'g', 'b', 'magenta'])\n",
    "    plt.suptitle(f'K-Means clustering(k={k})')\n",
    "    plt.scatter(X[:, 0], X[:, 1], color=colors[y_pred]);\n",
    "    \n",
    "kmeans_pred_plot(data,k=2)"
   ]
  },
  {
   "cell_type": "markdown",
   "metadata": {},
   "source": [
    "#### Iris 데이터 군집화\n",
    "k-means 알고리즘을 사용해 iris 데이터를 3개의 군집으로 나누어보고,  \n",
    "결과와 원래 iris.target을 비교해 정확도를 출력해보자."
   ]
  },
  {
   "cell_type": "code",
   "execution_count": 3,
   "metadata": {},
   "outputs": [
    {
     "name": "stdout",
     "output_type": "stream",
     "text": [
      "K-Means clustering(k=3)\n"
     ]
    },
    {
     "data": {
      "text/plain": [
       "array([1, 1, 1, 1, 1, 1, 1, 1, 1, 1, 1, 1, 1, 1, 1, 1, 1, 1, 1, 1, 1, 1,\n",
       "       1, 1, 1, 1, 1, 1, 1, 1, 1, 1, 1, 1, 1, 1, 1, 1, 1, 1, 1, 1, 1, 1,\n",
       "       1, 1, 1, 1, 1, 1, 0, 0, 2, 0, 0, 0, 0, 0, 0, 0, 0, 0, 0, 0, 0, 0,\n",
       "       0, 0, 0, 0, 0, 0, 0, 0, 0, 0, 0, 2, 0, 0, 0, 0, 0, 0, 0, 0, 0, 0,\n",
       "       0, 0, 0, 0, 0, 0, 0, 0, 0, 0, 0, 0, 2, 0, 2, 2, 2, 2, 0, 2, 2, 2,\n",
       "       2, 2, 2, 0, 0, 2, 2, 2, 2, 0, 2, 0, 2, 0, 2, 2, 0, 0, 2, 2, 2, 2,\n",
       "       2, 0, 2, 2, 2, 2, 0, 2, 2, 2, 0, 2, 2, 2, 0, 2, 2, 0])"
      ]
     },
     "execution_count": 3,
     "metadata": {},
     "output_type": "execute_result"
    }
   ],
   "source": [
    "from sklearn.datasets import load_iris\n",
    "from sklearn.metrics import accuracy_score\n",
    "\n",
    "iris = load_iris()\n",
    "\n",
    "data = iris.data\n",
    "target = iris.target\n",
    "k = len(iris.target_names)\n",
    "\n",
    "print(f'K-Means clustering(k={k})')\n",
    "model = KMeans(n_clusters=k)\n",
    "model.fit(data)\n",
    "y_pred = model.predict(data)\n",
    "\n",
    "y_pred"
   ]
  },
  {
   "cell_type": "code",
   "execution_count": 4,
   "metadata": {},
   "outputs": [
    {
     "data": {
      "text/plain": [
       "(array([ 0, 50], dtype=int64),\n",
       " array([48,  0,  2], dtype=int64),\n",
       " array([14,  0, 36], dtype=int64))"
      ]
     },
     "execution_count": 4,
     "metadata": {},
     "output_type": "execute_result"
    }
   ],
   "source": [
    "label_0 = np.bincount(y_pred[:50])\n",
    "label_1 = np.bincount(y_pred[50:100])\n",
    "label_2 = np.bincount(y_pred[100:])\n",
    "\n",
    "label_0, label_1, label_2"
   ]
  },
  {
   "cell_type": "code",
   "execution_count": 5,
   "metadata": {},
   "outputs": [
    {
     "data": {
      "text/plain": [
       "{0: 1, 1: 0, 2: 2}"
      ]
     },
     "execution_count": 5,
     "metadata": {},
     "output_type": "execute_result"
    }
   ],
   "source": [
    "labels = {0:np.argmax(label_0),\n",
    "          1:np.argmax(label_1),\n",
    "          2:np.argmax(label_2)}\n",
    "\n",
    "labels   #예측 군집이 0 => 실제 라벨 1, ..."
   ]
  },
  {
   "cell_type": "code",
   "execution_count": 6,
   "metadata": {},
   "outputs": [
    {
     "data": {
      "text/plain": [
       "array([0, 0, 0, 0, 0, 0, 0, 0, 0, 0, 0, 0, 0, 0, 0, 0, 0, 0, 0, 0, 0, 0,\n",
       "       0, 0, 0, 0, 0, 0, 0, 0, 0, 0, 0, 0, 0, 0, 0, 0, 0, 0, 0, 0, 0, 0,\n",
       "       0, 0, 0, 0, 0, 0, 1, 1, 2, 1, 1, 1, 1, 1, 1, 1, 1, 1, 1, 1, 1, 1,\n",
       "       1, 1, 1, 1, 1, 1, 1, 1, 1, 1, 1, 2, 1, 1, 1, 1, 1, 1, 1, 1, 1, 1,\n",
       "       1, 1, 1, 1, 1, 1, 1, 1, 1, 1, 1, 1, 2, 1, 2, 2, 2, 2, 1, 2, 2, 2,\n",
       "       2, 2, 2, 1, 1, 2, 2, 2, 2, 1, 2, 1, 2, 1, 2, 2, 1, 1, 2, 2, 2, 2,\n",
       "       2, 1, 2, 2, 2, 2, 1, 2, 2, 2, 1, 2, 2, 2, 1, 2, 2, 1], dtype=int64)"
      ]
     },
     "execution_count": 6,
     "metadata": {},
     "output_type": "execute_result"
    }
   ],
   "source": [
    "new_y_pred = []\n",
    "for i in y_pred:\n",
    "    new_y_pred.append(labels[i])\n",
    "    \n",
    "new_y_pred = np.array(new_y_pred)\n",
    "new_y_pred"
   ]
  },
  {
   "cell_type": "code",
   "execution_count": 7,
   "metadata": {},
   "outputs": [
    {
     "data": {
      "text/plain": [
       "0.8933333333333333"
      ]
     },
     "execution_count": 7,
     "metadata": {},
     "output_type": "execute_result"
    }
   ],
   "source": [
    "accuracy_score(iris.target, new_y_pred)"
   ]
  },
  {
   "cell_type": "markdown",
   "metadata": {},
   "source": [
    "### Quiz.\n",
    "+ 동물병원에서 치료받은 개의 종류와 크기 데이터를 바탕으로 K-NN 알고리즘을 적용해보자  \n",
    "1. 데이터를 라벨링하여 데이터와 레이블을 각각 생성하고, 각 견종별 데이터를 2차원 배열로 출력해라."
   ]
  },
  {
   "cell_type": "code",
   "execution_count": 8,
   "metadata": {},
   "outputs": [
    {
     "name": "stdout",
     "output_type": "stream",
     "text": [
      "닥스훈트(0) : [[75, 24], [77, 29], [83, 19], [81, 32], [73, 21], [99, 22], [72, 19], [83, 34]]\n",
      "사모예드(1) : [[76, 55], [78, 58], [82, 53], [88, 54], [76, 61], [83, 52], [81, 57], [89, 64]]\n",
      "말티즈(2) : [[35, 23], [39, 26], [38, 19], [41, 30], [30, 21], [57, 24], [41, 28], [35, 20]]\n"
     ]
    }
   ],
   "source": [
    "dach_length = [75, 77, 83, 81, 73, 99, 72, 83]\n",
    "dach_height = [24, 29, 19, 32, 21, 22, 19, 34]\n",
    "samo_length = [76, 78, 82, 88, 76, 83, 81, 89]\n",
    "samo_height = [55, 58, 53, 54, 61, 52, 57, 64]\n",
    "malt_length = [35, 39, 38, 41, 30, 57, 41, 35]\n",
    "malt_height = [23, 26, 19, 30, 21, 24, 28, 20]\n",
    "\n",
    "dach = np.column_stack((dach_length, dach_height))\n",
    "samo = np.column_stack((samo_length, samo_height))\n",
    "malt = np.column_stack((malt_length, malt_height))\n",
    "\n",
    "dach_label = np.zeros(8) \n",
    "samo_label = np.ones(8)\n",
    "malt_label = np.ones(8) + 1\n",
    "\n",
    "print(f'닥스훈트(0) : {[list(i) for i in list(dach)]}')\n",
    "print(f'사모예드(1) : {[list(i) for i in list(samo)]}')\n",
    "print(f'말티즈(2) : {[list(i) for i in list(malt)]}')"
   ]
  },
  {
   "cell_type": "markdown",
   "metadata": {},
   "source": [
    "2. k=3일 때 K-NN 분류기의 분류결과 목표값과 예측결과를 혼동행렬로 표시해라."
   ]
  },
  {
   "cell_type": "code",
   "execution_count": 9,
   "metadata": {},
   "outputs": [
    {
     "data": {
      "text/plain": [
       "<function numpy.stack(arrays, axis=0, out=None)>"
      ]
     },
     "execution_count": 9,
     "metadata": {},
     "output_type": "execute_result"
    }
   ],
   "source": [
    "np.stack"
   ]
  },
  {
   "cell_type": "code",
   "execution_count": 10,
   "metadata": {},
   "outputs": [
    {
     "data": {
      "text/plain": [
       "array([[8, 0, 0],\n",
       "       [0, 8, 0],\n",
       "       [1, 0, 7]], dtype=int64)"
      ]
     },
     "execution_count": 10,
     "metadata": {},
     "output_type": "execute_result"
    }
   ],
   "source": [
    "from sklearn.neighbors import KNeighborsClassifier\n",
    "from sklearn.metrics import confusion_matrix\n",
    "\n",
    "data = np.row_stack((dach, samo, malt))                       #(24, 2)\n",
    "label = np.concatenate((dach_label, samo_label, malt_label))    #(24, )\n",
    "\n",
    "k = 3\n",
    "\n",
    "model = KNeighborsClassifier(n_neighbors=k)\n",
    "model.fit(data, label)\n",
    "y_pred = model.predict(data)\n",
    "\n",
    "confusion_matrix(label, y_pred)"
   ]
  },
  {
   "cell_type": "markdown",
   "metadata": {},
   "source": [
    "3. 데이터 A, B, C, D에 대하여 각각 n_neighbors를 3, 5, 7로 하여 분류결과를 출력해라."
   ]
  },
  {
   "cell_type": "code",
   "execution_count": 14,
   "metadata": {},
   "outputs": [
    {
     "name": "stdout",
     "output_type": "stream",
     "text": [
      "A 데이터 분류결과\n",
      "A [[58, 30]] : n_neighbors가 3일 때 : 말티즈\n",
      "A [[58, 30]] : n_neighbors가 5일 때 : 말티즈\n",
      "A [[58, 30]] : n_neighbors가 7일 때 : 닥스훈트\n",
      "--------------------------------------------------\n",
      "B 데이터 분류결과\n",
      "B [[80, 26]] : n_neighbors가 3일 때 : 닥스훈트\n",
      "B [[80, 26]] : n_neighbors가 5일 때 : 닥스훈트\n",
      "B [[80, 26]] : n_neighbors가 7일 때 : 닥스훈트\n",
      "--------------------------------------------------\n",
      "C 데이터 분류결과\n",
      "C [[80, 41]] : n_neighbors가 3일 때 : 닥스훈트\n",
      "C [[80, 41]] : n_neighbors가 5일 때 : 닥스훈트\n",
      "C [[80, 41]] : n_neighbors가 7일 때 : 사모예드\n",
      "--------------------------------------------------\n",
      "D 데이터 분류결과\n",
      "D [[75, 55]] : n_neighbors가 3일 때 : 사모예드\n",
      "D [[75, 55]] : n_neighbors가 5일 때 : 사모예드\n",
      "D [[75, 55]] : n_neighbors가 7일 때 : 사모예드\n",
      "--------------------------------------------------\n"
     ]
    }
   ],
   "source": [
    "A = [[58, 30]]\n",
    "B = [[80, 26]]\n",
    "C = [[80, 41]]\n",
    "D  =[[75, 55]]\n",
    "\n",
    "dog_class = {0:'닥스훈트',\n",
    "             1:'사모예드',\n",
    "             2:'말티즈'}\n",
    "\n",
    "n_neighbors = [3, 5, 7]\n",
    "new_data = [('A',A), ('B',B), ('C',C), ('D',D)]\n",
    "for dog in new_data:\n",
    "    print(f'{dog[0]} 데이터 분류결과')\n",
    "    for n in n_neighbors:\n",
    "        model = KNeighborsClassifier(n_neighbors=n)\n",
    "        model.fit(data, label)\n",
    "        pred = model.predict(dog[1])\n",
    "        print(f'{dog[0]} {dog[1]} : n_neighbors가 {n}일 때 : {dog_class[list(pred)[0]]}')\n",
    "    print('-' * 50)"
   ]
  },
  {
   "cell_type": "markdown",
   "metadata": {},
   "source": [
    "4. 3의 결과로 보아 위의 데이터 중에서 k값의 영향을 받지 않는 데이터는 무엇이며, 그 이유는 무엇인지 서술해라.\n",
    "5. 3번 데이터를 산포도 그래프로 그려보아라. \n",
    "+ B, D 데이터는 k값의 영향을 받지 않는다.\n",
    "+ 아래의 산점도를 보면 B, D는 각각 닥스훈트, 사모예드 군집에 매우 가깝지만,  \n",
    "A, C는 두가지 군집 사이에 위치한 것을 볼 수 있다."
   ]
  },
  {
   "cell_type": "code",
   "execution_count": 36,
   "metadata": {},
   "outputs": [
    {
     "data": {
      "image/png": "[encoded data removed]",
      "text/plain": [
       "<Figure size 432x288 with 1 Axes>"
      ]
     },
     "metadata": {
      "needs_background": "light"
     },
     "output_type": "display_data"
    }
   ],
   "source": [
    "new_dots = A + B + C + D\n",
    "\n",
    "plt.title('Dog size')\n",
    "plt.xlabel('Length')\n",
    "plt.ylabel('Height')\n",
    "plt.scatter(A[0][0], A[0][1], c='r', marker='s', s=100, label='A')\n",
    "plt.scatter(B[0][0], B[0][1], c='c', marker='s', s=100, label='B')\n",
    "plt.scatter(C[0][0], C[0][1], c='g', marker='s', s=100, label='C')\n",
    "plt.scatter(D[0][0], D[0][1], c='magenta', marker='s', s=100, label='D')\n",
    "plt.scatter(dach_length, dach_height, c='c', marker='^', label='Dachshund')\n",
    "plt.scatter(samo_length, samo_height, c='y', marker='p', label='Samoyed')\n",
    "plt.scatter(malt_length, malt_height, c='b', label='Maltese')\n",
    "plt.legend();"
   ]
  },
  {
   "cell_type": "code",
   "execution_count": null,
   "metadata": {},
   "outputs": [],
   "source": []
  }
 ],
 "metadata": {
  "kernelspec": {
   "display_name": "Python 3.9.13 64-bit (windows store)",
   "language": "python",
   "name": "python3"
  },
  "language_info": {
   "codemirror_mode": {
    "name": "ipython",
    "version": 3
   },
   "file_extension": ".py",
   "mimetype": "text/x-python",
   "name": "python",
   "nbconvert_exporter": "python",
   "pygments_lexer": "ipython3",
   "version": "3.9.13"
  },
  "orig_nbformat": 4,
  "vscode": {
   "interpreter": {
    "hash": "6fa4a44f766495ce506072b9c8e55063615baddbc9bec71ca3a3504c00a47a80"
   }
  }
 },
 "nbformat": 4,
 "nbformat_minor": 2
}
