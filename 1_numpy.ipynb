{
 "cells": [
  {
   "cell_type": "markdown",
   "metadata": {},
   "source": [
    "파이썬의 리스트\n",
    "+ 여러 개의 값들을 저장할 수 있는 자료구조로서 강력하고 활용도가 높다.\n",
    "+ 하지만 리스트와 리스트 간 다양한 연산 기능이 부족하고(벡터로 간주 X), 속도도 빠르지 않다.  \n",
    "#### => Numpy 배열 필요!\n",
    "+ 1차원은 벡터, 2차원은 행렬로 간주하고 연산한다.\n",
    "+ 2차원 배열은 수학에서의 행렬과 같으며, 역행렬이나 행렬식을 구하는 등의 행렬연산이 가능해 수학, 과학 분야의 응용에 적합하다.\n",
    "+ 데이터 분석을 위한 패키지인 pandas, 머신러닝을 위한 패키지인 scikit-learn, tensorflow 등이 numpy 위에서 작동한다."
   ]
  },
  {
   "cell_type": "code",
   "execution_count": 1,
   "metadata": {},
   "outputs": [],
   "source": [
    "import numpy as np"
   ]
  },
  {
   "cell_type": "code",
   "execution_count": 11,
   "metadata": {},
   "outputs": [
    {
     "name": "stdout",
     "output_type": "stream",
     "text": [
      "3\n",
      "3\n"
     ]
    }
   ],
   "source": [
    "#2차원 배열(3X3)\n",
    "a = np.array([[1,2,3],\n",
    "             [4,5,6],\n",
    "             [7,8,9]])\n",
    "\n",
    "print(a[0][2])\n",
    "print(a[0,2])   #넘파이에서는 이렇게 더 많이 표기함"
   ]
  },
  {
   "cell_type": "code",
   "execution_count": 15,
   "metadata": {},
   "outputs": [
    {
     "name": "stdout",
     "output_type": "stream",
     "text": [
      "[]\n",
      "[[3 4]\n",
      " [7 8]]\n"
     ]
    }
   ],
   "source": [
    "#2차원 배열(4X4)\n",
    "b = np.array([[1,2,3,4],\n",
    "              [5,6,7,8],\n",
    "              [9,10,11,12],\n",
    "              [13,14,15,16]])\n",
    "\n",
    "print(b[0:2][2:4])   #리스트 방식 => b[0:2]의 길이가 2(인덱스 0,1)이므로 [2:4]를 적용하면 해당값이 없음\n",
    "print(b[0:2, 2:4])   #4X4 행렬에서 2X2 행렬 추출 가능"
   ]
  },
  {
   "cell_type": "markdown",
   "metadata": {},
   "source": [
    "#### ndarray 객체(n차원 배열)\n",
    "+ C언어에 기반한 배열 구조로, 메모리를 적게 차지하고 속도가 빠르다.\n",
    "+ 배열과 배열 간 수학적 연산을 적용할 수 있다.\n",
    "+ 고급 연산자와 풍부한 함수들을 제공한다."
   ]
  },
  {
   "cell_type": "code",
   "execution_count": 3,
   "metadata": {},
   "outputs": [
    {
     "name": "stdout",
     "output_type": "stream",
     "text": [
      "(3,)\n",
      "1\n",
      "int32\n",
      "4\n",
      "3\n"
     ]
    }
   ],
   "source": [
    "a = np.array([1, 2, 3])\n",
    "\n",
    "print(a.shape)       #형태\n",
    "print(a.ndim)        #차원\n",
    "print(a.dtype)       #자료형(모든 요소가 같은 자료형이어야 함)\n",
    "print(a.itemsize)    #크기(byte)\n",
    "print(a.size)        #요소 개수"
   ]
  },
  {
   "cell_type": "markdown",
   "metadata": {},
   "source": [
    "#### Broadcasting\n",
    "+ 스칼라 : 1, 2, 3.14 같이 크기 값만을 가지는 양\n",
    "+ 벡터 : 순서가 있는 스칼라 값의 배열로, 크기(norm)와 방향 값을 가짐(열벡터, 행벡터가 있음)\n",
    "+ 스칼라 값을 벡터의 각 원소로 전파하여 연산하여 벡터와 스칼라 간 연산을 가능하게 하는 방법이다.\n",
    "+ 스칼라 값을 복사해 벡터와 같은 차원으로 만드는 과정이 없기 때문에, 복사에 의한 속도 저하를 피할 수 있다."
   ]
  },
  {
   "cell_type": "code",
   "execution_count": 7,
   "metadata": {},
   "outputs": [
    {
     "data": {
      "text/plain": [
       "(array([340, 360, 320, 355]), array([340, 360, 320, 355]))"
      ]
     },
     "execution_count": 7,
     "metadata": {},
     "output_type": "execute_result"
    }
   ],
   "source": [
    "salary = np.array([240, 260, 220, 255])\n",
    "\n",
    "list_salary = salary + [100, 100, 100, 100]\n",
    "numpy_salary = salary + 100\n",
    "\n",
    "list_salary, numpy_salary"
   ]
  },
  {
   "cell_type": "markdown",
   "metadata": {},
   "source": [
    "#### Vectorization\n",
    "+ 배열의 원소 각각을 가져와 연산하는 것이 아니라, 하나의 명령이 여러 데이터에 동시에 적용되는 방식이다.\n",
    "+ 전통적 병렬 처리는 큰 작업을 분할하여 다수의 프로세서에서 나누어 처리하지만,  \n",
    "벡터화 연산은 하나의 프로세서 내에서 병렬적 데이터 처리가 묵시적으로 이루어진다."
   ]
  },
  {
   "cell_type": "code",
   "execution_count": 31,
   "metadata": {},
   "outputs": [
    {
     "name": "stdout",
     "output_type": "stream",
     "text": [
      "0.21900010108947754\n"
     ]
    }
   ],
   "source": [
    "#전통적 병렬처리\n",
    "import time\n",
    "start = time.time()\n",
    "\n",
    "values = np.random.rand(1000000)\n",
    "weights = np.random.rand(1000000)\n",
    "weighted_values = np.empty(len(values))    #빈 행렬 생성\n",
    "for i in range(len(values)):               #명시적으로 작업 지시\n",
    "    weighted_values[i] = weights[i] + values[i]\n",
    "    \n",
    "#print(f'{values} * {weights} = {weighted_values}')\n",
    "end = time.time()\n",
    "print(end - start)"
   ]
  },
  {
   "cell_type": "code",
   "execution_count": 32,
   "metadata": {},
   "outputs": [
    {
     "name": "stdout",
     "output_type": "stream",
     "text": [
      "0.017995119094848633\n"
     ]
    }
   ],
   "source": [
    "#벡터화 연산\n",
    "start = time.time()\n",
    "\n",
    "values = np.random.rand(1000000)\n",
    "weights = np.random.rand(1000000)\n",
    "weighted_values = values * weights   #묵시적으로 벡터 요소별 곱셈\n",
    "\n",
    "#print(f'{values} * {weights} = {weighted_values}')\n",
    "end = time.time()\n",
    "print(end - start)"
   ]
  },
  {
   "cell_type": "code",
   "execution_count": 25,
   "metadata": {},
   "outputs": [],
   "source": [
    "#명시적 방법 함수화\n",
    "def matmult_naive(a, b):\n",
    "    c = np.zeros((a.shape[0], b.shape[1]), dtype=int)\n",
    "    \n",
    "    for i in range(a.shape[0]):\n",
    "        for j in range(b.shape[0]):\n",
    "            for k in range(a.shape[1]):\n",
    "                c[i,j] += a[i,k] * b[k,j]   #시간복잡도 O(N3)으로, 행렬이 조금만 커져도 계산 부담이 매우 커짐\n",
    "                \n",
    "    return c"
   ]
  },
  {
   "cell_type": "code",
   "execution_count": null,
   "metadata": {},
   "outputs": [],
   "source": [
    "#벡터화 연산 함수화\n",
    "def matmul2d(a, b):\n",
    "    c = np.zeros((a.shape[0], b.shape[1]), dtype=int)\n",
    "    for i in range(a.shape[0]):\n",
    "        c[i,:] = (a[i,:] * b.T).sum(axis=1)\n",
    "        \n",
    "    return c"
   ]
  },
  {
   "cell_type": "markdown",
   "metadata": {},
   "source": [
    "#### 논리 인덱싱\n",
    "+ 어떤 조건을 주어서 배열에서 원하는 값을 추려내는 것이다.\n",
    "+ 특정 수의 배수를 추출하는 등 필터링 작업을 손쉽게 할 수 있다."
   ]
  },
  {
   "cell_type": "code",
   "execution_count": 34,
   "metadata": {},
   "outputs": [
    {
     "name": "stdout",
     "output_type": "stream",
     "text": [
      "[False False  True  True  True]\n",
      "[25 30 28]\n"
     ]
    }
   ],
   "source": [
    "ages = np.array([18, 19, 25, 30, 28])\n",
    "\n",
    "print(ages > 20)\n",
    "print(ages[ages > 20])"
   ]
  },
  {
   "cell_type": "code",
   "execution_count": 36,
   "metadata": {},
   "outputs": [
    {
     "name": "stdout",
     "output_type": "stream",
     "text": [
      "[[False False  True  True  True]\n",
      " [False  True  True False  True]]\n",
      "[25 30 28 29 50 22]\n"
     ]
    }
   ],
   "source": [
    "ages = np.array([[18, 19, 25, 30, 28],\n",
    "                [5, 29, 50, 15, 22]])\n",
    "\n",
    "print(ages > 20)\n",
    "print(ages[ages > 20])  #2차원 배열을 논리인덱싱해도 1차원 배열로 출력"
   ]
  },
  {
   "cell_type": "code",
   "execution_count": null,
   "metadata": {},
   "outputs": [],
   "source": []
  }
 ],
 "metadata": {
  "kernelspec": {
   "display_name": "Python 3.9.13 64-bit (windows store)",
   "language": "python",
   "name": "python3"
  },
  "language_info": {
   "codemirror_mode": {
    "name": "ipython",
    "version": 3
   },
   "file_extension": ".py",
   "mimetype": "text/x-python",
   "name": "python",
   "nbconvert_exporter": "python",
   "pygments_lexer": "ipython3",
   "version": "3.9.13"
  },
  "orig_nbformat": 4,
  "vscode": {
   "interpreter": {
    "hash": "6fa4a44f766495ce506072b9c8e55063615baddbc9bec71ca3a3504c00a47a80"
   }
  }
 },
 "nbformat": 4,
 "nbformat_minor": 2
}
