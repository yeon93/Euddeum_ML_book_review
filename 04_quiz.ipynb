{
 "cells": [
  {
   "cell_type": "code",
   "execution_count": 83,
   "metadata": {},
   "outputs": [],
   "source": [
    "import numpy as np\n",
    "import pandas as pd\n",
    "import matplotlib.pyplot as plt\n",
    "import seaborn as sns\n",
    "\n",
    "from sklearn.linear_model import LinearRegression\n",
    "from sklearn.metrics import mean_squared_error as mse"
   ]
  },
  {
   "cell_type": "markdown",
   "metadata": {},
   "source": [
    "## 1. P 자동차 회사의 차종, 마력, 평균연비를 나타내는 표"
   ]
  },
  {
   "cell_type": "code",
   "execution_count": 95,
   "metadata": {},
   "outputs": [
    {
     "data": {
      "text/html": [
       "<div>\n",
       "<style scoped>\n",
       "    .dataframe tbody tr th:only-of-type {\n",
       "        vertical-align: middle;\n",
       "    }\n",
       "\n",
       "    .dataframe tbody tr th {\n",
       "        vertical-align: top;\n",
       "    }\n",
       "\n",
       "    .dataframe thead th {\n",
       "        text-align: right;\n",
       "    }\n",
       "</style>\n",
       "<table border=\"1\" class=\"dataframe\">\n",
       "  <thead>\n",
       "    <tr style=\"text-align: right;\">\n",
       "      <th></th>\n",
       "      <th>hp</th>\n",
       "      <th>efficiency</th>\n",
       "    </tr>\n",
       "  </thead>\n",
       "  <tbody>\n",
       "    <tr>\n",
       "      <th>0</th>\n",
       "      <td>130</td>\n",
       "      <td>16.3</td>\n",
       "    </tr>\n",
       "    <tr>\n",
       "      <th>1</th>\n",
       "      <td>250</td>\n",
       "      <td>10.2</td>\n",
       "    </tr>\n",
       "    <tr>\n",
       "      <th>2</th>\n",
       "      <td>190</td>\n",
       "      <td>11.1</td>\n",
       "    </tr>\n",
       "    <tr>\n",
       "      <th>3</th>\n",
       "      <td>300</td>\n",
       "      <td>7.1</td>\n",
       "    </tr>\n",
       "    <tr>\n",
       "      <th>4</th>\n",
       "      <td>210</td>\n",
       "      <td>12.1</td>\n",
       "    </tr>\n",
       "    <tr>\n",
       "      <th>5</th>\n",
       "      <td>220</td>\n",
       "      <td>13.2</td>\n",
       "    </tr>\n",
       "    <tr>\n",
       "      <th>6</th>\n",
       "      <td>170</td>\n",
       "      <td>14.2</td>\n",
       "    </tr>\n",
       "  </tbody>\n",
       "</table>\n",
       "</div>"
      ],
      "text/plain": [
       "    hp  efficiency\n",
       "0  130        16.3\n",
       "1  250        10.2\n",
       "2  190        11.1\n",
       "3  300         7.1\n",
       "4  210        12.1\n",
       "5  220        13.2\n",
       "6  170        14.2"
      ]
     },
     "execution_count": 95,
     "metadata": {},
     "output_type": "execute_result"
    }
   ],
   "source": [
    "data = {'hp':[130, 250, 190, 300, 210, 220, 170], \n",
    "        'efficiency':[16.3, 10.2, 11.1, 7.1, 12.1, 13.2, 14.2]}\n",
    "\n",
    "df = pd.DataFrame(data)\n",
    "#df = df.T\n",
    "#df.columns = ['A', 'B', 'C', 'D', 'E', 'F', 'G']\n",
    "df"
   ]
  },
  {
   "cell_type": "markdown",
   "metadata": {},
   "source": [
    "+ 1-1. P 자동차 회사의 마력과 연비 사이에는 어떤 상관관계가 있을까?  \n",
    "선형회귀분석을 통해 선형회귀모델의 절편과 계수를 구해라.  \n",
    "마지막으로 이 선형회귀모델이 입력 마력 값에 대해 연비를 에측하는 데 얼마나 적합한지 예측 점수를 출력해보라."
   ]
  },
  {
   "cell_type": "code",
   "execution_count": 97,
   "metadata": {},
   "outputs": [
    {
     "data": {
      "image/png": "[encoded data removed]",
      "text/plain": [
       "<Figure size 432x288 with 1 Axes>"
      ]
     },
     "metadata": {
      "needs_background": "light"
     },
     "output_type": "display_data"
    }
   ],
   "source": [
    "df.plot(kind='scatter', x='hp', y='efficiency');"
   ]
  },
  {
   "cell_type": "code",
   "execution_count": 98,
   "metadata": {},
   "outputs": [
    {
     "name": "stdout",
     "output_type": "stream",
     "text": [
      "(7, 1)\n",
      "(7, 2)\n"
     ]
    }
   ],
   "source": [
    "x = df['hp'].to_numpy()\n",
    "y = df['efficiency'].to_numpy()\n",
    "\n",
    "x = x[:, np.newaxis]\n",
    "print(x.shape)\n",
    "X = np.c_[np.ones(len(x)), x]\n",
    "print(X.shape)"
   ]
  },
  {
   "cell_type": "code",
   "execution_count": 54,
   "metadata": {},
   "outputs": [
    {
     "name": "stdout",
     "output_type": "stream",
     "text": [
      "계수 : -0.05027472527472546\n",
      "절편 : 22.58626373626376\n"
     ]
    }
   ],
   "source": [
    "theta = np.linalg.inv(X.T.dot(X)).dot(X.T).dot(y)\n",
    "\n",
    "print(f'계수 : {theta[1]}')\n",
    "print(f'절편 : {theta[0]}')"
   ]
  },
  {
   "cell_type": "code",
   "execution_count": 99,
   "metadata": {},
   "outputs": [
    {
     "data": {
      "image/png": "[encoded data removed]",
      "text/plain": [
       "<Figure size 432x288 with 1 Axes>"
      ]
     },
     "metadata": {
      "needs_background": "light"
     },
     "output_type": "display_data"
    }
   ],
   "source": [
    "def h(x, theta):\n",
    "    return x * theta[1] + theta[0]\n",
    "\n",
    "df.plot(kind='scatter', x='hp', y='efficiency')\n",
    "plt.plot([0,300], [h(0, theta), h(300, theta)]);"
   ]
  },
  {
   "cell_type": "code",
   "execution_count": 100,
   "metadata": {},
   "outputs": [
    {
     "name": "stdout",
     "output_type": "stream",
     "text": [
      "계수 : [-0.05027473]\n",
      "절편 : 22.58626373626374\n",
      "예측 점수 : 0.9761302982731553\n"
     ]
    }
   ],
   "source": [
    "x = df['hp'].to_numpy()[:, np.newaxis]  #(7, 1)\n",
    "y = df['efficiency'].to_numpy()                 #(7,  )\n",
    "\n",
    "model = LinearRegression()\n",
    "\n",
    "model.fit(x, y)\n",
    "\n",
    "y_pred = model.predict(x)\n",
    "\n",
    "print(f'계수 : {model.coef_}')\n",
    "print(f'절편 : {model.intercept_}')\n",
    "print(f'예측 점수 : {mse(y, y_pred)}')"
   ]
  },
  {
   "cell_type": "markdown",
   "metadata": {},
   "source": [
    "+ 1-2) 위의 선형회귀모델을 바탕으로 270마력의 신형엔진을 가진 자동차를 개발하려 한다.  \n",
    "이 자동차의 연비를 선형회귀모델에 적용하여 구해보자.  \n",
    "출력은 소수점 둘째 자리까지 출력해보라."
   ]
  },
  {
   "cell_type": "code",
   "execution_count": 73,
   "metadata": {},
   "outputs": [
    {
     "name": "stdout",
     "output_type": "stream",
     "text": [
      "270 마력 자동차의 예상 연비 : 9.01 km/l\n"
     ]
    }
   ],
   "source": [
    "pred = model.predict(np.array([[270, ]]))\n",
    "\n",
    "print(f'270 마력 자동차의 예상 연비 : {round(float(pred), 2)} km/l' )"
   ]
  },
  {
   "cell_type": "markdown",
   "metadata": {},
   "source": [
    "## 2. P 자동차 회사의 차종, 마력, 총중량을 나타낸 표"
   ]
  },
  {
   "cell_type": "code",
   "execution_count": 101,
   "metadata": {},
   "outputs": [
    {
     "data": {
      "text/html": [
       "<div>\n",
       "<style scoped>\n",
       "    .dataframe tbody tr th:only-of-type {\n",
       "        vertical-align: middle;\n",
       "    }\n",
       "\n",
       "    .dataframe tbody tr th {\n",
       "        vertical-align: top;\n",
       "    }\n",
       "\n",
       "    .dataframe thead th {\n",
       "        text-align: right;\n",
       "    }\n",
       "</style>\n",
       "<table border=\"1\" class=\"dataframe\">\n",
       "  <thead>\n",
       "    <tr style=\"text-align: right;\">\n",
       "      <th></th>\n",
       "      <th>hp</th>\n",
       "      <th>weight</th>\n",
       "      <th>efficiency</th>\n",
       "    </tr>\n",
       "  </thead>\n",
       "  <tbody>\n",
       "    <tr>\n",
       "      <th>0</th>\n",
       "      <td>130</td>\n",
       "      <td>1900</td>\n",
       "      <td>16.3</td>\n",
       "    </tr>\n",
       "    <tr>\n",
       "      <th>1</th>\n",
       "      <td>250</td>\n",
       "      <td>2600</td>\n",
       "      <td>10.2</td>\n",
       "    </tr>\n",
       "    <tr>\n",
       "      <th>2</th>\n",
       "      <td>190</td>\n",
       "      <td>2200</td>\n",
       "      <td>11.1</td>\n",
       "    </tr>\n",
       "    <tr>\n",
       "      <th>3</th>\n",
       "      <td>300</td>\n",
       "      <td>2900</td>\n",
       "      <td>7.1</td>\n",
       "    </tr>\n",
       "    <tr>\n",
       "      <th>4</th>\n",
       "      <td>210</td>\n",
       "      <td>2400</td>\n",
       "      <td>12.1</td>\n",
       "    </tr>\n",
       "    <tr>\n",
       "      <th>5</th>\n",
       "      <td>220</td>\n",
       "      <td>2300</td>\n",
       "      <td>13.2</td>\n",
       "    </tr>\n",
       "    <tr>\n",
       "      <th>6</th>\n",
       "      <td>170</td>\n",
       "      <td>2100</td>\n",
       "      <td>14.2</td>\n",
       "    </tr>\n",
       "  </tbody>\n",
       "</table>\n",
       "</div>"
      ],
      "text/plain": [
       "    hp  weight  efficiency\n",
       "0  130    1900        16.3\n",
       "1  250    2600        10.2\n",
       "2  190    2200        11.1\n",
       "3  300    2900         7.1\n",
       "4  210    2400        12.1\n",
       "5  220    2300        13.2\n",
       "6  170    2100        14.2"
      ]
     },
     "execution_count": 101,
     "metadata": {},
     "output_type": "execute_result"
    }
   ],
   "source": [
    "data = {'hp':[130, 250, 190, 300, 210, 220, 170], \n",
    "        'weight':[1900, 2600, 2200, 2900, 2400, 2300, 2100],\n",
    "        'efficiency':[16.3, 10.2, 11.1, 7.1, 12.1, 13.2, 14.2]}\n",
    "\n",
    "df = pd.DataFrame(data)\n",
    "df"
   ]
  },
  {
   "cell_type": "markdown",
   "metadata": {},
   "source": [
    "+ 2-1. 위 자료를 바탕으로 적절한 선형회귀모델을 구현해라.  \n",
    "이 모델의 계수, 절편, 예측모델의 점수를 출력하라"
   ]
  },
  {
   "cell_type": "code",
   "execution_count": 102,
   "metadata": {},
   "outputs": [
    {
     "name": "stdout",
     "output_type": "stream",
     "text": [
      "계수 : [-0.00689189 -0.00731081]\n",
      "절편 : 30.60405405405405\n",
      "예측 점수 : 0.8519498069498079\n"
     ]
    }
   ],
   "source": [
    "X = df[['hp', 'weight']].to_numpy()\n",
    "y = df['efficiency'].to_numpy()\n",
    "\n",
    "model = LinearRegression()\n",
    "model.fit(X, y)\n",
    "\n",
    "y_pred = model.predict(X)\n",
    "\n",
    "print(f'계수 : {model.coef_}')\n",
    "print(f'절편 : {model.intercept_}')\n",
    "print(f'예측 점수 : {mse(y, y_pred)}')"
   ]
  },
  {
   "cell_type": "markdown",
   "metadata": {},
   "source": [
    "+ 2-2. 위 선형회귀모델을 바탕으로 270마력의 신형엔진을 가진 총중량 2500kg의 자동차를 개발하려 한다.  \n",
    "이 자동차의 연비를 선형회귀모델에 적용하여 구해보라."
   ]
  },
  {
   "cell_type": "code",
   "execution_count": 90,
   "metadata": {},
   "outputs": [
    {
     "name": "stdout",
     "output_type": "stream",
     "text": [
      "270 마력 2500kg 자동차의 예상 연비 : 10.47 km/l\n"
     ]
    }
   ],
   "source": [
    "pred = model.predict(np.array([[270, 2500]]))\n",
    "\n",
    "print(f'270 마력 2500kg 자동차의 예상 연비 : {round(float(pred), 2)} km/l' )"
   ]
  },
  {
   "cell_type": "markdown",
   "metadata": {},
   "source": [
    "+ 2-3. 마력과 총중량, 연비 사이의 상관관계를 쌍플롯으로 그려보라."
   ]
  },
  {
   "cell_type": "code",
   "execution_count": 103,
   "metadata": {},
   "outputs": [
    {
     "data": {
      "image/png": "[encoded data removed]",
      "text/plain": [
       "<Figure size 540x540 with 12 Axes>"
      ]
     },
     "metadata": {
      "needs_background": "light"
     },
     "output_type": "display_data"
    }
   ],
   "source": [
    "sns.pairplot(df);"
   ]
  },
  {
   "cell_type": "markdown",
   "metadata": {},
   "source": [
    "+ 2-4. 마력과 총중량, 연비사이의 상관관계를 seaborn의 heatmap으로 가시화해보라."
   ]
  },
  {
   "cell_type": "code",
   "execution_count": 105,
   "metadata": {},
   "outputs": [
    {
     "data": {
      "text/plain": [
       "<AxesSubplot:>"
      ]
     },
     "execution_count": 105,
     "metadata": {},
     "output_type": "execute_result"
    },
    {
     "data": {
      "image/png": "[encoded data removed]",
      "text/plain": [
       "<Figure size 432x288 with 2 Axes>"
      ]
     },
     "metadata": {
      "needs_background": "light"
     },
     "output_type": "display_data"
    }
   ],
   "source": [
    "sns.heatmap(df.corr(), annot=True)"
   ]
  },
  {
   "cell_type": "markdown",
   "metadata": {},
   "source": [
    "+ 2-5. 위 내용을 바탕으로 마력, 총중량, 연비의 상관관계를 조사하고, 이를 3개 이상의 문장으로 요약 정리하라.\n",
    "    - 마력은 총중량과 양의 상관관계를 가진다. \n",
    "    - 마력과 총중량은 모두 연비와 음의 상관관계를 가진다.\n",
    "    - 따라서 마력, 총중량이 낮을수록 연비를 높일 수 있다."
   ]
  }
 ],
 "metadata": {
  "kernelspec": {
   "display_name": "Python 3.9.13 64-bit (windows store)",
   "language": "python",
   "name": "python3"
  },
  "language_info": {
   "codemirror_mode": {
    "name": "ipython",
    "version": 3
   },
   "file_extension": ".py",
   "mimetype": "text/x-python",
   "name": "python",
   "nbconvert_exporter": "python",
   "pygments_lexer": "ipython3",
   "version": "3.9.13"
  },
  "orig_nbformat": 4,
  "vscode": {
   "interpreter": {
    "hash": "6fa4a44f766495ce506072b9c8e55063615baddbc9bec71ca3a3504c00a47a80"
   }
  }
 },
 "nbformat": 4,
 "nbformat_minor": 2
}
