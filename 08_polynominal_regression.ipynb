{
 "cells": [
  {
   "cell_type": "markdown",
   "metadata": {},
   "source": [
    "sklearn.preprocessing 서브모듈의 PolynomialFeatures 클래스 사용  \n",
    "\n",
    "+ 다항특징변환 : 차수를 지정하고, 입력을 fit_transform() 메소드에 넘기면 다항회귀에 필요한 형태로 변환한다."
   ]
  },
  {
   "cell_type": "code",
   "execution_count": 68,
   "metadata": {},
   "outputs": [
    {
     "data": {
      "text/html": [
       "<div>\n",
       "<style scoped>\n",
       "    .dataframe tbody tr th:only-of-type {\n",
       "        vertical-align: middle;\n",
       "    }\n",
       "\n",
       "    .dataframe tbody tr th {\n",
       "        vertical-align: top;\n",
       "    }\n",
       "\n",
       "    .dataframe thead th {\n",
       "        text-align: right;\n",
       "    }\n",
       "</style>\n",
       "<table border=\"1\" class=\"dataframe\">\n",
       "  <thead>\n",
       "    <tr style=\"text-align: right;\">\n",
       "      <th></th>\n",
       "      <th>Life expectancy</th>\n",
       "      <th>Percentage expenditure</th>\n",
       "      <th>Polio</th>\n",
       "      <th>BMI</th>\n",
       "      <th>GDP</th>\n",
       "      <th>Thinness 1-19 years</th>\n",
       "    </tr>\n",
       "  </thead>\n",
       "  <tbody>\n",
       "    <tr>\n",
       "      <th>0</th>\n",
       "      <td>65.0</td>\n",
       "      <td>71.279624</td>\n",
       "      <td>6.0</td>\n",
       "      <td>19.1</td>\n",
       "      <td>584.259210</td>\n",
       "      <td>17.2</td>\n",
       "    </tr>\n",
       "    <tr>\n",
       "      <th>1</th>\n",
       "      <td>59.9</td>\n",
       "      <td>73.523582</td>\n",
       "      <td>58.0</td>\n",
       "      <td>18.6</td>\n",
       "      <td>612.696514</td>\n",
       "      <td>17.5</td>\n",
       "    </tr>\n",
       "    <tr>\n",
       "      <th>2</th>\n",
       "      <td>59.9</td>\n",
       "      <td>73.219243</td>\n",
       "      <td>62.0</td>\n",
       "      <td>18.1</td>\n",
       "      <td>631.744976</td>\n",
       "      <td>17.7</td>\n",
       "    </tr>\n",
       "    <tr>\n",
       "      <th>3</th>\n",
       "      <td>59.5</td>\n",
       "      <td>78.184215</td>\n",
       "      <td>67.0</td>\n",
       "      <td>17.6</td>\n",
       "      <td>669.959000</td>\n",
       "      <td>17.9</td>\n",
       "    </tr>\n",
       "    <tr>\n",
       "      <th>4</th>\n",
       "      <td>59.2</td>\n",
       "      <td>7.097109</td>\n",
       "      <td>68.0</td>\n",
       "      <td>17.2</td>\n",
       "      <td>63.537231</td>\n",
       "      <td>18.2</td>\n",
       "    </tr>\n",
       "    <tr>\n",
       "      <th>...</th>\n",
       "      <td>...</td>\n",
       "      <td>...</td>\n",
       "      <td>...</td>\n",
       "      <td>...</td>\n",
       "      <td>...</td>\n",
       "      <td>...</td>\n",
       "    </tr>\n",
       "    <tr>\n",
       "      <th>2933</th>\n",
       "      <td>44.3</td>\n",
       "      <td>0.000000</td>\n",
       "      <td>67.0</td>\n",
       "      <td>27.1</td>\n",
       "      <td>454.366654</td>\n",
       "      <td>9.4</td>\n",
       "    </tr>\n",
       "    <tr>\n",
       "      <th>2934</th>\n",
       "      <td>44.5</td>\n",
       "      <td>0.000000</td>\n",
       "      <td>7.0</td>\n",
       "      <td>26.7</td>\n",
       "      <td>453.351155</td>\n",
       "      <td>9.8</td>\n",
       "    </tr>\n",
       "    <tr>\n",
       "      <th>2935</th>\n",
       "      <td>44.8</td>\n",
       "      <td>0.000000</td>\n",
       "      <td>73.0</td>\n",
       "      <td>26.3</td>\n",
       "      <td>57.348340</td>\n",
       "      <td>1.2</td>\n",
       "    </tr>\n",
       "    <tr>\n",
       "      <th>2936</th>\n",
       "      <td>45.3</td>\n",
       "      <td>0.000000</td>\n",
       "      <td>76.0</td>\n",
       "      <td>25.9</td>\n",
       "      <td>548.587312</td>\n",
       "      <td>1.6</td>\n",
       "    </tr>\n",
       "    <tr>\n",
       "      <th>2937</th>\n",
       "      <td>46.0</td>\n",
       "      <td>0.000000</td>\n",
       "      <td>78.0</td>\n",
       "      <td>25.5</td>\n",
       "      <td>547.358878</td>\n",
       "      <td>11.0</td>\n",
       "    </tr>\n",
       "  </tbody>\n",
       "</table>\n",
       "<p>1649 rows × 6 columns</p>\n",
       "</div>"
      ],
      "text/plain": [
       "      Life expectancy  Percentage expenditure  Polio   BMI         GDP  \\\n",
       "0                65.0               71.279624    6.0  19.1  584.259210   \n",
       "1                59.9               73.523582   58.0  18.6  612.696514   \n",
       "2                59.9               73.219243   62.0  18.1  631.744976   \n",
       "3                59.5               78.184215   67.0  17.6  669.959000   \n",
       "4                59.2                7.097109   68.0  17.2   63.537231   \n",
       "...               ...                     ...    ...   ...         ...   \n",
       "2933             44.3                0.000000   67.0  27.1  454.366654   \n",
       "2934             44.5                0.000000    7.0  26.7  453.351155   \n",
       "2935             44.8                0.000000   73.0  26.3   57.348340   \n",
       "2936             45.3                0.000000   76.0  25.9  548.587312   \n",
       "2937             46.0                0.000000   78.0  25.5  547.358878   \n",
       "\n",
       "      Thinness 1-19 years  \n",
       "0                    17.2  \n",
       "1                    17.5  \n",
       "2                    17.7  \n",
       "3                    17.9  \n",
       "4                    18.2  \n",
       "...                   ...  \n",
       "2933                  9.4  \n",
       "2934                  9.8  \n",
       "2935                  1.2  \n",
       "2936                  1.6  \n",
       "2937                 11.0  \n",
       "\n",
       "[1649 rows x 6 columns]"
      ]
     },
     "execution_count": 68,
     "metadata": {},
     "output_type": "execute_result"
    }
   ],
   "source": [
    "import pandas as pd\n",
    "import matplotlib.pyplot as plt\n",
    "from sklearn.model_selection import train_test_split\n",
    "from sklearn.linear_model import LinearRegression\n",
    "from sklearn.metrics import mean_squared_error as mse\n",
    "from sklearn.preprocessing import PolynomialFeatures\n",
    "\n",
    "url = 'https://github.com/dknife/ML/raw/main/data/'\n",
    "data = pd.read_csv(url + 'life_expectancy.csv')\n",
    "data.dropna(inplace=True)\n",
    "\n",
    "X = data[['Life expectancy', 'Percentage expenditure', 'Polio',\n",
    "          'BMI', 'GDP', 'Thinness 1-19 years']]\n",
    "y = data['Life expectancy']\n",
    "\n",
    "X"
   ]
  },
  {
   "cell_type": "code",
   "execution_count": 69,
   "metadata": {},
   "outputs": [
    {
     "name": "stdout",
     "output_type": "stream",
     "text": [
      "degree=1일 때 X.shape : (1649, 7)\n",
      "degree=2일 때 X.shape : (1649, 28)\n",
      "degree=3일 때 X.shape : (1649, 84)\n",
      "degree=4일 때 X.shape : (1649, 210)\n",
      "degree=5일 때 X.shape : (1649, 462)\n",
      "degree=6일 때 X.shape : (1649, 924)\n",
      "degree=7일 때 X.shape : (1649, 1716)\n",
      "degree=8일 때 X.shape : (1649, 3003)\n",
      "degree=9일 때 X.shape : (1649, 5005)\n",
      "degree=10일 때 X.shape : (1649, 8008)\n"
     ]
    }
   ],
   "source": [
    "for n in range(1, 11):\n",
    "    poly_features = PolynomialFeatures(degree=n)   #n차 다항식을 위한 입력으로 변환\n",
    "    poly_X = poly_features.fit_transform(X)\n",
    "    print(f'degree={n}일 때 X.shape : {poly_X.shape}')\n",
    "#다항식의 차수가 높아질수록 입력의 크기가 폭발적으로 증가한다."
   ]
  },
  {
   "cell_type": "code",
   "execution_count": 70,
   "metadata": {},
   "outputs": [
    {
     "name": "stdout",
     "output_type": "stream",
     "text": [
      "훈련데이터 MSE : 0.0033209908529288107\n",
      "검증데이터 MSE : 0.3099321140340187\n"
     ]
    },
    {
     "data": {
      "image/png": "[encoded data removed]",
      "text/plain": [
       "<Figure size 432x288 with 1 Axes>"
      ]
     },
     "metadata": {
      "needs_background": "light"
     },
     "output_type": "display_data"
    }
   ],
   "source": [
    "from random import random\n",
    "\n",
    "\n",
    "poly_features = PolynomialFeatures(degree=3)\n",
    "poly_X = poly_features.fit_transform(X)\n",
    "\n",
    "X_train, X_test, y_train, y_test = train_test_split(poly_X, y, test_size=0.2, random_state=2, shuffle=True)\n",
    "\n",
    "model = LinearRegression()\n",
    "model.fit(X_train, y_train)\n",
    "\n",
    "y_train_pred = model.predict(X_train)\n",
    "y_test_pred = model.predict(X_test)\n",
    "\n",
    "print(f'훈련데이터 MSE : {mse(y_train, y_train_pred)}')\n",
    "print(f'검증데이터 MSE : {mse(y_test, y_test_pred)}')\n",
    "plt.scatter(y_train, y_train_pred, color='b', label='Train')\n",
    "plt.scatter(y_test, y_test_pred, color='r', label='Test')\n",
    "plt.plot([40, 100], [40, 100])\n",
    "plt.legend();"
   ]
  },
  {
   "cell_type": "markdown",
   "metadata": {},
   "source": [
    "검증데이터의 MSE가 훈련데이터에 비해 높은 값을 가지고  \n",
    "정답선에서 벗어난 빨간점이 확인되는 것으로 보아,  \n",
    "모델이 훈련용 데이터에 과적합되었다고 볼 수 있다.  \n",
    "=> 차수가 높아질수록 입력데이터의 크기가 폭발적으로 증가하며, 과적합도 심해진다."
   ]
  },
  {
   "cell_type": "markdown",
   "metadata": {},
   "source": [
    "### Quiz.\n",
    "직선으로 표현하기 어려운 데이터를 화면에 그려보고, 데이터를 설명하는 회귀함수를 다항회귀를 이용해 찾아보자.  \n",
    "그리고 회귀함수를 데이터의 독립변수 범위 내에서 가시화해보아라."
   ]
  },
  {
   "cell_type": "code",
   "execution_count": 71,
   "metadata": {},
   "outputs": [
    {
     "name": "stdout",
     "output_type": "stream",
     "text": [
      "          x         y\n",
      "0  0.034794  0.342989\n",
      "1  0.053759 -0.156204\n",
      "2  0.049323 -0.476218\n"
     ]
    },
    {
     "data": {
      "image/png": "[encoded data removed]",
      "text/plain": [
       "<Figure size 432x288 with 1 Axes>"
      ]
     },
     "metadata": {
      "needs_background": "light"
     },
     "output_type": "display_data"
    }
   ],
   "source": [
    "url = 'https://github.com/dknife/ML/raw/main/data/nonlinear.csv'\n",
    "data = pd.read_csv(url)\n",
    "\n",
    "print(data[:3])\n",
    "plt.scatter(data['x'], data['y']);"
   ]
  },
  {
   "cell_type": "code",
   "execution_count": 79,
   "metadata": {},
   "outputs": [
    {
     "data": {
      "text/plain": [
       "((1000, 1), (1000, 4))"
      ]
     },
     "execution_count": 79,
     "metadata": {},
     "output_type": "execute_result"
    }
   ],
   "source": [
    "X = data['x'].to_numpy()                    #(1000,)\n",
    "y = data['y'].to_numpy()                    #(1000,)\n",
    "\n",
    "X = X.reshape(-1, 1)                        #(1000, 1)\n",
    "\n",
    "poly_features = PolynomialFeatures(degree=3)\n",
    "X_degree3 = poly_features.fit_transform(X)  #(1000, 4)"
   ]
  },
  {
   "cell_type": "code",
   "execution_count": 80,
   "metadata": {},
   "outputs": [
    {
     "data": {
      "text/plain": [
       "LinearRegression()"
      ]
     },
     "execution_count": 80,
     "metadata": {},
     "output_type": "execute_result"
    }
   ],
   "source": [
    "import numpy as np\n",
    "\n",
    "model_1 = LinearRegression()\n",
    "model_3 = LinearRegression()\n",
    "\n",
    "model_1.fit(X, y)\n",
    "model_3.fit(X_degree3, y)"
   ]
  },
  {
   "cell_type": "code",
   "execution_count": 81,
   "metadata": {},
   "outputs": [
    {
     "data": {
      "image/png": "[encoded data removed]",
      "text/plain": [
       "<Figure size 432x288 with 1 Axes>"
      ]
     },
     "metadata": {
      "needs_background": "light"
     },
     "output_type": "display_data"
    }
   ],
   "source": [
    "#회귀함수를 그릴 때 사용할 x의 범위\n",
    "x_for_line = np.linspace(0, 1, 100)       #0~1 사이를 균일한 간격으로 100개 채움(100, )\n",
    "X_for_line = x_for_line.reshape(-1, 1)    #(100, 1)\n",
    "X_for_line_degree3 = poly_features.fit_transform(X_for_line)  #(100, 4)\n",
    "\n",
    "pred = model_1.predict(X_for_line)\n",
    "pred_degree3 = model_3.predict(X_for_line_degree3)                   \n",
    "\n",
    "plt.scatter(data['x'], data['y'])\n",
    "plt.scatter(X_for_line, pred, color='y', label='degree=1')\n",
    "plt.scatter(x_for_line, pred_degree3, color='r', label='degree=3');"
   ]
  }
 ],
 "metadata": {
  "kernelspec": {
   "display_name": "Python 3.9.13 64-bit (windows store)",
   "language": "python",
   "name": "python3"
  },
  "language_info": {
   "codemirror_mode": {
    "name": "ipython",
    "version": 3
   },
   "file_extension": ".py",
   "mimetype": "text/x-python",
   "name": "python",
   "nbconvert_exporter": "python",
   "pygments_lexer": "ipython3",
   "version": "3.9.13"
  },
  "orig_nbformat": 4,
  "vscode": {
   "interpreter": {
    "hash": "6fa4a44f766495ce506072b9c8e55063615baddbc9bec71ca3a3504c00a47a80"
   }
  }
 },
 "nbformat": 4,
 "nbformat_minor": 2
}
